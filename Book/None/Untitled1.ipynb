{
 "cells": [
  {
   "cell_type": "code",
   "execution_count": 5,
   "metadata": {},
   "outputs": [
    {
     "name": "stdout",
     "output_type": "stream",
     "text": [
      "각자가 지불해야할 초밥 값 : 1666.6666666666667\n",
      "각자가 지불해야할 빵 값 : 5983.333333333333\n"
     ]
    }
   ],
   "source": [
    "x = 5000\n",
    "y = 17960\n",
    "x1 = 5000/3\n",
    "y1 = 17950/3\n",
    "print(\"각자가 지불해야할 초밥 값 : {}\".format(x1))\n",
    "print(\"각자가 지불해야할 빵 값 : {}\".format(y1))"
   ]
  },
  {
   "cell_type": "code",
   "execution_count": 6,
   "metadata": {},
   "outputs": [
    {
     "name": "stdout",
     "output_type": "stream",
     "text": [
      "섬김이가 영은이에게 줘야할 돈 : 4316.666666666666\n",
      "열매가 둘에게 줘야할 돈 : 7650.0\n"
     ]
    }
   ],
   "source": [
    "#1666\n",
    "yahax = x1\n",
    "leafx = x1\n",
    "zerox = x1\n",
    "\n",
    "#5983\n",
    "yahay = y1\n",
    "leafy = y1\n",
    "zeroy = y1\n",
    "\n",
    "leaf_send_yaha = leafy - yahax\n",
    "zerosum = y1 + x1\n",
    "\n",
    "print(\"섬김이가 영은이에게 줘야할 돈 : {}\".format(leaf_send_yaha))\n",
    "print(\"열매가 둘에게 줘야할 돈 : {}\".format(zerosum))"
   ]
  },
  {
   "cell_type": "code",
   "execution_count": null,
   "metadata": {},
   "outputs": [],
   "source": []
  }
 ],
 "metadata": {
  "kernelspec": {
   "display_name": "Python 3",
   "language": "python",
   "name": "python3"
  },
  "language_info": {
   "codemirror_mode": {
    "name": "ipython",
    "version": 3
   },
   "file_extension": ".py",
   "mimetype": "text/x-python",
   "name": "python",
   "nbconvert_exporter": "python",
   "pygments_lexer": "ipython3",
   "version": "3.7.2"
  }
 },
 "nbformat": 4,
 "nbformat_minor": 2
}
